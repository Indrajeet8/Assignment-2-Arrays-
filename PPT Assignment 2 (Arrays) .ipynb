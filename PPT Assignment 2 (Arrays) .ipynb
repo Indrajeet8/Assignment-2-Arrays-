{
 "cells": [
  {
   "cell_type": "markdown",
   "id": "476736fe-24cb-475c-a9a6-31c7ee455bbd",
   "metadata": {},
   "source": [
    "# Assignment 2 (Arrays)"
   ]
  },
  {
   "cell_type": "markdown",
   "id": "c4dd03f5-4fcb-448d-b40c-fdca0c30ba63",
   "metadata": {},
   "source": [
    "### Question 1\n",
    "#### Given an integer array nums of 2n integers, group these integers into n pairs (a1, b1), (a2, b2),..., (an, bn) such that the sum of min(ai, bi) for all i is maximized. Return the maximized sum.\n",
    "\n",
    "### Example 1:\n",
    "#### Input: nums = [1,4,3,2]\n",
    "#### Output: 4\n",
    "\n",
    "### Explanation: All possible pairings (ignoring the ordering of elements) are:\n",
    "\n",
    "1. (1, 4), (2, 3) -> min(1, 4) + min(2, 3) = 1 + 2 = 3\n",
    "2. (1, 3), (2, 4) -> min(1, 3) + min(2, 4) = 1 + 2 = 3\n",
    "3. (1, 2), (3, 4) -> min(1, 2) + min(3, 4) = 1 + 3 = 4\n",
    "#### So the maximum possible sum is 4"
   ]
  },
  {
   "cell_type": "code",
   "execution_count": 7,
   "id": "23ffb47b-7492-4743-8d6a-b0c989627cf3",
   "metadata": {},
   "outputs": [],
   "source": [
    "def arrayPairSum(nums):\n",
    "    nums.sort()  # Sort the array in ascending order\n",
    "    max_sum = 0  # Initialize the maximum sum\n",
    "\n",
    "    # Iterate over the array by increments of 2\n",
    "    for i in range(0, len(nums), 2):\n",
    "        max_sum += min(nums[i], nums[i+1])  # Add the minimum value to max_sum\n",
    "\n",
    "    return max_sum"
   ]
  },
  {
   "cell_type": "code",
   "execution_count": 8,
   "id": "fab35606-eac3-4cc6-9986-8394ef2d745e",
   "metadata": {},
   "outputs": [
    {
     "name": "stdout",
     "output_type": "stream",
     "text": [
      "4\n"
     ]
    }
   ],
   "source": [
    "nums = [1, 4, 3, 2]\n",
    "maximized_sum = arrayPairSum(nums)\n",
    "print(maximized_sum)"
   ]
  },
  {
   "cell_type": "markdown",
   "id": "830de85f-ba46-45fa-8b08-08cd58ca4a5e",
   "metadata": {},
   "source": [
    "### Question 2\n",
    "#### Alice has n candies, where the ith candy is of type candyType[i]. Alice noticed that she started to gain weight, so she visited a doctor. \n",
    "\n",
    "#### The doctor advised Alice to only eat n / 2 of the candies she has (n is always even). Alice likes her candies very much, and she wants to eat the maximum number of different types of candies while still following the doctor's advice. \n",
    "\n",
    "#### Given the integer array candyType of length n, return the maximum number of different types of candies she can eat if she only eats n / 2 of them.\n",
    "\n",
    "### Example 1:\n",
    "#### Input: candyType = [1,1,2,2,3,3]\n",
    "#### Output: 3\n",
    "\n",
    "### Explanation: \n",
    "#### Alice can only eat 6 / 2 = 3 candies. Since there are only 3 types, she can eat one of each type."
   ]
  },
  {
   "cell_type": "code",
   "execution_count": 9,
   "id": "51cc489f-d531-4522-8574-af45c687f770",
   "metadata": {},
   "outputs": [],
   "source": [
    "def maxCandies(candyType):\n",
    "    unique_candies = set()  # Set to store unique candy types\n",
    "\n",
    "    for candy in candyType:\n",
    "        unique_candies.add(candy)  # Add candy type to the set\n",
    "\n",
    "    max_types = min(len(unique_candies), len(candyType) // 2)\n",
    "    return max_types"
   ]
  },
  {
   "cell_type": "code",
   "execution_count": 10,
   "id": "e40453d2-d97f-40f6-9c03-bf57e760a4c3",
   "metadata": {},
   "outputs": [
    {
     "name": "stdout",
     "output_type": "stream",
     "text": [
      "3\n"
     ]
    }
   ],
   "source": [
    "candyType = [1, 1, 2, 2, 3, 3]\n",
    "max_types = maxCandies(candyType)\n",
    "print(max_types)"
   ]
  },
  {
   "cell_type": "markdown",
   "id": "edae0256-d4cf-4fef-9850-e4d33733d185",
   "metadata": {},
   "source": [
    "### Question 3\n",
    "#### We define a harmonious array as an array where the difference between its maximum value and its minimum value is exactly 1\n",
    "\n",
    "#### Given an integer array nums, return the length of its longest harmonious subsequence among all its possible subsequences.\n",
    "\n",
    "#### A subsequence of an array is a sequence that can be derived from the array by deleting some or no elements without changing the order of the remaining elements.\n",
    "\n",
    "### Example 1:\n",
    "#### Input: nums = [1,3,2,2,5,2,3,7]\n",
    "#### Output: 5\n",
    "\n",
    "### Explanation:\n",
    "#### The longest harmonious subsequence is [3,2,2,2,3]."
   ]
  },
  {
   "cell_type": "code",
   "execution_count": 11,
   "id": "c013c705-d15e-4804-a3bf-9797db5b42a2",
   "metadata": {},
   "outputs": [],
   "source": [
    "def findLHS(nums):\n",
    "    num_freq = {}  # Dictionary to store frequency of numbers\n",
    "\n",
    "    # Count the frequency of each number\n",
    "    for num in nums:\n",
    "        if num not in num_freq:\n",
    "            num_freq[num] = 1\n",
    "        else:\n",
    "            num_freq[num] += 1\n",
    "\n",
    "    max_length = 0  # Initialize the maximum length\n",
    "\n",
    "    # Check for each number and its consecutive number\n",
    "    for num in nums:\n",
    "        if num + 1 in num_freq:\n",
    "            length = num_freq[num] + num_freq[num + 1]\n",
    "            if length > max_length:\n",
    "                max_length = length\n",
    "\n",
    "    return max_length"
   ]
  },
  {
   "cell_type": "code",
   "execution_count": 12,
   "id": "d991f88c-45aa-4bdb-bb25-427b6d92b45b",
   "metadata": {},
   "outputs": [
    {
     "name": "stdout",
     "output_type": "stream",
     "text": [
      "5\n"
     ]
    }
   ],
   "source": [
    "nums = [1, 3, 2, 2, 5, 2, 3, 7]\n",
    "max_subsequence_length = findLHS(nums)\n",
    "print(max_subsequence_length)"
   ]
  },
  {
   "cell_type": "markdown",
   "id": "15682436-3be5-4120-ad2d-ab1d28d5eefc",
   "metadata": {},
   "source": [
    "### Question 4\n",
    "#### You have a long flowerbed in which some of the plots are planted, and some are not.\n",
    "#### However, flowers cannot be planted in adjacent plots.\n",
    "#### Given an integer array flowerbed containing 0's and 1's, where 0 means empty and 1 means not empty, and an integer n, return true if n new flowers can be planted in the flowerbed without violating the no-adjacent-flowers rule and false otherwise.\n",
    "\n",
    "### Example 1:\n",
    "#### Input: flowerbed = [1,0,0,0,1], n = 1\n",
    "#### Output: true"
   ]
  },
  {
   "cell_type": "code",
   "execution_count": 13,
   "id": "254e97c9-2f28-4e76-b638-b82b0839f93c",
   "metadata": {},
   "outputs": [],
   "source": [
    "def canPlaceFlowers(flowerbed, n):\n",
    "    count = 0  # Count of flowers that can be planted\n",
    "\n",
    "    for i in range(len(flowerbed)):\n",
    "        if flowerbed[i] == 0 and (i == 0 or flowerbed[i - 1] == 0) and (i == len(flowerbed) - 1 or flowerbed[i + 1] == 0):\n",
    "            flowerbed[i] = 1  # Plant a flower\n",
    "            count += 1\n",
    "\n",
    "    return count >= n"
   ]
  },
  {
   "cell_type": "code",
   "execution_count": 14,
   "id": "5413ee11-e465-4353-8a14-944662da0b70",
   "metadata": {},
   "outputs": [
    {
     "name": "stdout",
     "output_type": "stream",
     "text": [
      "True\n"
     ]
    }
   ],
   "source": [
    "flowerbed = [1, 0, 0, 0, 1]\n",
    "n = 1\n",
    "can_plant = canPlaceFlowers(flowerbed, n)\n",
    "print(can_plant)"
   ]
  },
  {
   "cell_type": "markdown",
   "id": "e4eb4fe3-0cb0-4600-a487-30d36219e064",
   "metadata": {},
   "source": [
    "### Question 5\n",
    "#### Given an integer array nums, find three numbers whose product is maximum and return the maximum product.\n",
    "\n",
    "### Example 1:\n",
    "#### Input: nums = [1,2,3]\n",
    "#### Output: 6"
   ]
  },
  {
   "cell_type": "code",
   "execution_count": 15,
   "id": "8f770b65-8ba5-47db-81cc-18597a4edd23",
   "metadata": {},
   "outputs": [],
   "source": [
    "def maximumProduct(nums):\n",
    "    nums.sort()  # Sort the array in ascending order\n",
    "\n",
    "    max_product = nums[-1] * nums[-2] * nums[-3]  # Product of the three largest elements\n",
    "    min_product = nums[0] * nums[1] * nums[-1]  # Product of the two smallest elements and the largest element\n",
    "\n",
    "    return max(max_product, min_product)"
   ]
  },
  {
   "cell_type": "code",
   "execution_count": 16,
   "id": "f59c91b9-fbaa-4f03-a4c4-d1bb0e649368",
   "metadata": {},
   "outputs": [
    {
     "name": "stdout",
     "output_type": "stream",
     "text": [
      "6\n"
     ]
    }
   ],
   "source": [
    "nums = [1, 2, 3]\n",
    "max_product = maximumProduct(nums)\n",
    "print(max_product)"
   ]
  },
  {
   "cell_type": "markdown",
   "id": "62fa4eac-676c-4656-a359-d69931165d9c",
   "metadata": {},
   "source": [
    "### Question 6\n",
    "#### Given an array of integers nums which is sorted in ascending order, and an integer target, write a function to search target in nums. If target exists, then return its index. Otherwise, return -1.\n",
    "\n",
    "#### You must write an algorithm with O(log n) runtime complexity.\n",
    "\n",
    "#### Input: nums = [-1,0,3,5,9,12], target = 9\n",
    "#### Output: 4\n",
    "\n",
    "### Explanation: \n",
    "#### 9 exists in nums and its index is 4"
   ]
  },
  {
   "cell_type": "code",
   "execution_count": 17,
   "id": "e27ce287-f8ca-483c-b998-685abbf0e5f8",
   "metadata": {},
   "outputs": [],
   "source": [
    "def search(nums, target):\n",
    "    left = 0\n",
    "    right = len(nums) - 1\n",
    "\n",
    "    while left <= right:\n",
    "        mid = (left + right) // 2\n",
    "\n",
    "        if nums[mid] == target:\n",
    "            return mid\n",
    "        elif nums[mid] > target:\n",
    "            right = mid - 1\n",
    "        else:\n",
    "            left = mid + 1\n",
    "\n",
    "    return -1"
   ]
  },
  {
   "cell_type": "code",
   "execution_count": 18,
   "id": "1bfbd2d1-8ce8-42be-aa04-aaef13fe8232",
   "metadata": {},
   "outputs": [
    {
     "name": "stdout",
     "output_type": "stream",
     "text": [
      "4\n"
     ]
    }
   ],
   "source": [
    "nums = [-1, 0, 3, 5, 9, 12]\n",
    "target = 9\n",
    "index = search(nums, target)\n",
    "print(index)"
   ]
  },
  {
   "cell_type": "markdown",
   "id": "3357a91d-17af-4298-a184-34c83d0971cc",
   "metadata": {},
   "source": [
    "### Question 7\n",
    "#### An array is monotonic if it is either monotone increasing or monotone decreasing.\n",
    "\n",
    "#### An array nums is monotone increasing if for all i <= j, nums[i] <= nums[j]. An array nums is monotone decreasing if for all i <= j, nums[i] >= nums[j].\n",
    "\n",
    "#### Given an integer array nums, return true if the given array is monotonic, or false otherwise.\n",
    "\n",
    "### Example 1:\n",
    "#### Input: nums = [1,2,2,3]\n",
    "#### Output: true"
   ]
  },
  {
   "cell_type": "code",
   "execution_count": 19,
   "id": "447c76dc-fa74-4987-ace5-3b2d7ac0d572",
   "metadata": {},
   "outputs": [],
   "source": [
    "def isMonotonic(nums):\n",
    "    increasing = True\n",
    "    decreasing = True\n",
    "\n",
    "    for i in range(1, len(nums)):\n",
    "        if nums[i] < nums[i - 1]:\n",
    "            increasing = False\n",
    "        if nums[i] > nums[i - 1]:\n",
    "            decreasing = False\n",
    "\n",
    "    return increasing or decreasing"
   ]
  },
  {
   "cell_type": "code",
   "execution_count": 20,
   "id": "e87ee915-055c-47dd-800d-40ad089f0067",
   "metadata": {},
   "outputs": [
    {
     "name": "stdout",
     "output_type": "stream",
     "text": [
      "True\n"
     ]
    }
   ],
   "source": [
    "nums = [1, 2, 2, 3]\n",
    "is_monotonic = isMonotonic(nums)\n",
    "print(is_monotonic)"
   ]
  },
  {
   "cell_type": "markdown",
   "id": "a96d54c4-baa4-42e6-9e19-143fc2c22c41",
   "metadata": {},
   "source": [
    "### Question 8\n",
    "#### You are given an integer array nums and an integer k.\n",
    "\n",
    "#### In one operation, you can choose any index i where 0 <= i < nums.length and change nums[i] to nums[i] + x where x is an integer from the range [-k, k]. You can apply this operation at most once for each index i.\n",
    "\n",
    "#### The score of nums is the difference between the maximum and minimum elements in nums.\n",
    "\n",
    "#### Return the minimum score of nums after applying the mentioned operation at most once for each index in it.\n",
    "\n",
    "### Example 1:\n",
    "#### Input: nums = [1], k = 0\n",
    "#### Output: 0\n",
    "\n",
    "### Explanation: \n",
    "#### The score is max(nums) - min(nums) = 1 - 1 = 0."
   ]
  },
  {
   "cell_type": "code",
   "execution_count": 21,
   "id": "8db7a83e-902a-4bc2-8032-35c259a6a0fc",
   "metadata": {},
   "outputs": [],
   "source": [
    "def minimumScore(nums, k):\n",
    "    minimum = float('inf')\n",
    "    maximum = float('-inf')\n",
    "\n",
    "    for num in nums:\n",
    "        minimum = min(minimum, num)\n",
    "        maximum = max(maximum, num)\n",
    "\n",
    "    if maximum - minimum <= 2 * k:\n",
    "        return 0\n",
    "\n",
    "    minimum_score = maximum - minimum - 2 * k\n",
    "\n",
    "    return minimum_score"
   ]
  },
  {
   "cell_type": "code",
   "execution_count": 23,
   "id": "3ca744a2-1891-4764-81db-6c132ee93743",
   "metadata": {},
   "outputs": [
    {
     "name": "stdout",
     "output_type": "stream",
     "text": [
      "0\n"
     ]
    }
   ],
   "source": [
    "nums = [1]\n",
    "k = 0\n",
    "min_score = minimumScore(nums, k)\n",
    "print(min_score)"
   ]
  }
 ],
 "metadata": {
  "kernelspec": {
   "display_name": "Python 3 (ipykernel)",
   "language": "python",
   "name": "python3"
  },
  "language_info": {
   "codemirror_mode": {
    "name": "ipython",
    "version": 3
   },
   "file_extension": ".py",
   "mimetype": "text/x-python",
   "name": "python",
   "nbconvert_exporter": "python",
   "pygments_lexer": "ipython3",
   "version": "3.10.8"
  }
 },
 "nbformat": 4,
 "nbformat_minor": 5
}
